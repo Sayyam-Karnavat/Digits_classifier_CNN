{
 "cells": [
  {
   "cell_type": "code",
   "execution_count": 2,
   "metadata": {},
   "outputs": [],
   "source": [
    "import tensorflow as tf\n",
    "import os\n",
    "import cv2\n",
    "import numpy as np\n",
    "import matplotlib.pyplot as plt #just for visualizing data(images)"
   ]
  },
  {
   "cell_type": "code",
   "execution_count": 3,
   "metadata": {},
   "outputs": [],
   "source": [
    "mnist = tf.keras.datasets.mnist # import lableled dataset of 28 x 28 pixel images of digits(already classified data)"
   ]
  },
  {
   "cell_type": "code",
   "execution_count": 4,
   "metadata": {},
   "outputs": [],
   "source": [
    "(x_train, y_train),(x_test , y_test) = mnist.load_data() # x being image itself in form of pixels and y is classification in terms of digits from 0 to 9 "
   ]
  },
  {
   "cell_type": "code",
   "execution_count": 4,
   "metadata": {},
   "outputs": [],
   "source": [
    "# we normalize the data i.e bringing it to scale of 0 and 1 i.e the images are in form of pixel of range 0-255 we convert them into 0 and 1\n",
    "x_train = tf.keras.utils.normalize(x_train , axis = 1) #Here we have 28 * 28 pixels hence axis = 1 means the second 28 elements of 28*28 pixel suppose if shape of image is 10 * 20 axis 0 = 10 and axis 1 = 20\n",
    "x_test = tf.keras.utils.normalize(x_test ,axis = 1)"
   ]
  },
  {
   "cell_type": "code",
   "execution_count": 5,
   "metadata": {},
   "outputs": [],
   "source": [
    "#create a model of  basic sequential neural network\n",
    "model = tf.keras.models.Sequential()\n",
    "model.add(tf.keras.layers.Flatten(input_shape = (28,28)))# adds a layer of neural network and flatten layer converts the matrix or array of data in one big line of data in this case we have 28 x 28 pixelated images that gets converted into one big line\n",
    "model.add(tf.keras.layers.Dense(128 , activation = 'relu'))#add basic dense layer in neural function where each neuron in a layer is connected to anther layer neuron\n",
    "model.add(tf.keras.layers.Dense(128 , activation = 'relu'))#same layer as above, 128 is units and relu(retify linear unit) is activation function\n",
    "model.add(tf.keras.layers.Dense(10 , activation = 'softmax'))#output layer with 10 neurons softmax adds all neuron adds to one i.e it gives output of clasification in confidence\n"
   ]
  },
  {
   "cell_type": "code",
   "execution_count": 6,
   "metadata": {},
   "outputs": [],
   "source": [
    "#compiles the model\n",
    "model.compile(optimizer = 'adam' , loss = 'sparse_categorical_crossentropy' , metrics = ['accuracy'])"
   ]
  },
  {
   "cell_type": "code",
   "execution_count": 31,
   "metadata": {},
   "outputs": [
    {
     "name": "stdout",
     "output_type": "stream",
     "text": [
      "Epoch 1/4\n",
      "1875/1875 [==============================] - 17s 8ms/step - loss: 0.0326 - accuracy: 0.9888\n",
      "Epoch 2/4\n",
      "1875/1875 [==============================] - 14s 8ms/step - loss: 0.0241 - accuracy: 0.9919\n",
      "Epoch 3/4\n",
      "1875/1875 [==============================] - 15s 8ms/step - loss: 0.0207 - accuracy: 0.9930\n",
      "Epoch 4/4\n",
      "1875/1875 [==============================] - 15s 8ms/step - loss: 0.0162 - accuracy: 0.9943\n",
      "INFO:tensorflow:Assets written to: handwritten\\assets\n"
     ]
    }
   ],
   "source": [
    "#train the data set\n",
    "model.fit(x_train , y_train , epochs = 4) #epochs is number of iterations\n",
    "model.save('handwritten')"
   ]
  },
  {
   "cell_type": "code",
   "execution_count": 32,
   "metadata": {},
   "outputs": [],
   "source": [
    "model = tf.keras.models.load_model('handwritten') # simply loads the saved model"
   ]
  },
  {
   "cell_type": "code",
   "execution_count": 33,
   "metadata": {},
   "outputs": [
    {
     "name": "stdout",
     "output_type": "stream",
     "text": [
      "313/313 [==============================] - 2s 6ms/step - loss: 0.1166 - accuracy: 0.9741\n",
      "0.11658020317554474\n",
      "0.9740999937057495\n"
     ]
    }
   ],
   "source": [
    "loss ,accuracy = model.evaluate(x_test , y_test) # performs classification on test sets \n",
    "print(loss) # loss should be low \n",
    "print(accuracy) #accuracy should be high"
   ]
  },
  {
   "cell_type": "code",
   "execution_count": 2,
   "metadata": {},
   "outputs": [],
   "source": [
    "# we provide our own image of handwritten digits to model to test it with looping through file \n",
    "file_looping = '''image_number = 1\n",
    "while os.path.isfile(f\"digits/digit{image_number}.png\"):\n",
    "    img = cv2.imread(f\"digits/digit{image_number}\".png)[:,:,0]\n",
    "    img = np.invert(np.array([img]))\n",
    "    prediction = model.predict(img)\n",
    "    print(f\"The digit is probably a {np.argmax(prediction)}\")\n",
    "    plt.imshow(img[0] ,cmap = plt.cm.binary)\n",
    "    plt.show()\n",
    "    image_number += 1\n",
    "'''"
   ]
  },
  {
   "cell_type": "code",
   "execution_count": 37,
   "metadata": {},
   "outputs": [
    {
     "name": "stdout",
     "output_type": "stream",
     "text": [
      "1/1 [==============================] - 0s 47ms/step\n",
      "The digit is probably a 3\n"
     ]
    },
    {
     "data": {
      "image/png": "[encoded data removed]",
      "text/plain": [
       "<Figure size 432x288 with 1 Axes>"
      ]
     },
     "metadata": {
      "needs_background": "light"
     },
     "output_type": "display_data"
    }
   ],
   "source": [
    "img = cv2.imread(\"digit11.png\")[:,:,0] #[:,:,0] represents channels and 0 refers to the shape of image as we simpy have detect the form of digit i.e shape\n",
    "img = np.invert(np.array([img]))# we are inverting the array cause it image by default is defined as white on black and we convert it to black on white\n",
    "prediction = model.predict(img)\n",
    "print(f\"The digit is probably a {np.argmax(prediction)}\")# prints the digit classified based on max probability\n",
    "plt.imshow(img[0] ,cmap = plt.cm.binary) #\n",
    "plt.show()"
   ]
  },
  {
   "cell_type": "code",
   "execution_count": null,
   "metadata": {},
   "outputs": [],
   "source": []
  }
 ],
 "metadata": {
  "kernelspec": {
   "display_name": "Python 3",
   "language": "python",
   "name": "python3"
  },
  "language_info": {
   "codemirror_mode": {
    "name": "ipython",
    "version": 3
   },
   "file_extension": ".py",
   "mimetype": "text/x-python",
   "name": "python",
   "nbconvert_exporter": "python",
   "pygments_lexer": "ipython3",
   "version": "3.7.6"
  }
 },
 "nbformat": 4,
 "nbformat_minor": 4
}
